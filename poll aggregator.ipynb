{
 "cells": [
  {
   "cell_type": "code",
   "execution_count": null,
   "metadata": {},
   "outputs": [],
   "source": [
    "import os\n",
    "import numpy as np\n",
    "import pandas as pd\n",
    "import pystan\n",
    "import csv"
   ]
  },
  {
   "cell_type": "code",
   "execution_count": null,
   "metadata": {},
   "outputs": [],
   "source": [
    "os.chdir('/Users/lukefitzpatrick/Desktop/polling_model_py/')"
   ]
  },
  {
   "cell_type": "code",
   "execution_count": null,
   "metadata": {},
   "outputs": [],
   "source": [
    "from stan_polls_helpers import *"
   ]
  },
  {
   "cell_type": "code",
   "execution_count": null,
   "metadata": {},
   "outputs": [],
   "source": [
    "Y_clinton, Y_trump, sigma, dates = get_data()"
   ]
  },
  {
   "cell_type": "code",
   "execution_count": null,
   "metadata": {},
   "outputs": [],
   "source": [
    "n_chains=1\n",
    "n_iter=1500"
   ]
  },
  {
   "cell_type": "code",
   "execution_count": null,
   "metadata": {},
   "outputs": [],
   "source": [
    "%%time\n",
    "fit = None\n",
    "for name, Y, prior in [('Clinton', Y_clinton, 50.0), ('Trump', Y_trump, 50.0)]:\n",
    "        stan_dat = {\n",
    "                   'T': len(Y),\n",
    "                   'polls': len(Y[0]),\n",
    "                   'Y': Y,\n",
    "                   'initial_prior': prior,\n",
    "                   'sigma': sigma,\n",
    "                   'rw_sd':0.25\n",
    "                    }\n",
    "\n",
    "        fit = fit_stan(stan_dat, n_chains, n_iter, fit)\n",
    "        get_median_percentile(fit, name, n_iter)"
   ]
  },
  {
   "cell_type": "code",
   "execution_count": null,
   "metadata": {},
   "outputs": [],
   "source": [
    "read_n_plot('/Users/lukefitzpatrick/Desktop/polling_model_py/',\n",
    "            title='Same initial support, random walk sd = 0.25',\n",
    "            Y_clinton= Y_clinton,\n",
    "            Y_trump= Y_trump,\n",
    "            niter=n_iter,\n",
    "            dates=dates)"
   ]
  }
 ],
 "metadata": {
  "kernelspec": {
   "display_name": "Python 3",
   "language": "python",
   "name": "python3"
  },
  "language_info": {
   "codemirror_mode": {
    "name": "ipython",
    "version": 3
   },
   "file_extension": ".py",
   "mimetype": "text/x-python",
   "name": "python",
   "nbconvert_exporter": "python",
   "pygments_lexer": "ipython3",
   "version": "3.6.8"
  }
 },
 "nbformat": 4,
 "nbformat_minor": 2
}
